{
 "cells": [
  {
   "cell_type": "code",
   "execution_count": 6,
   "id": "c3ab00cb",
   "metadata": {},
   "outputs": [
    {
     "data": {
      "application/vnd.plotly.v1+json": {
       "config": {
        "plotlyServerURL": "https://plot.ly"
       },
       "data": [
        {
         "link": {
          "color": [
           " rgba(214, 39, 40, 0.2)",
           " rgba(255, 127, 14, 0.2)",
           " rgba(44, 160, 44, 0.2)",
           "rgba(31, 119, 180, 0.2)",
           "rgba(31, 119, 180, 0.2)",
           " rgba(140, 86, 75, 0.2)",
           " rgba(44, 160, 44, 0.2)",
           " rgba(44, 160, 44, 0.2)",
           " rgba(227, 119, 194, 0.2)",
           " rgba(214, 39, 40, 0.2)",
           " rgba(214, 39, 40, 0.2)",
           " rgba(214, 39, 40, 0.2)",
           " rgba(214, 39, 40, 0.2)",
           " rgba(214, 39, 40, 0.2)",
           " rgba(148, 103, 189, 0.2)",
           " rgba(148, 103, 189, 0.2)",
           " rgba(148, 103, 189, 0.2)",
           " rgba(214, 39, 40, 0.2)",
           " rgba(127, 127, 127, 0.2)",
           " rgba(127, 127, 127, 0.2)",
           " rgba(127, 127, 127, 0.2)"
          ],
          "source": [
           0,
           1,
           2,
           3,
           3,
           5,
           6,
           6,
           12,
           13,
           13,
           13,
           13,
           13,
           14,
           14,
           14,
           13,
           17,
           17,
           17
          ],
          "target": [
           3,
           3,
           3,
           5,
           6,
           13,
           4,
           12,
           13,
           8,
           9,
           10,
           11,
           14,
           15,
           16,
           17,
           7,
           18,
           32,
           39
          ],
          "value": [
           35423,
           109174,
           2522,
           32575,
           114545,
           32575,
           21405,
           93140,
           93140,
           6378,
           1576,
           8683,
           2381,
           77750,
           -377,
           5804,
           72323,
           28947,
           18840,
           26162,
           27321
          ]
         },
         "node": {
          "color": [
           " rgba(214, 39, 40, 0.6)",
           " rgba(255, 127, 14, 0.6)",
           " rgba(44, 160, 44, 0.6)",
           "rgba(31, 119, 180, 0.6)",
           " rgba(148, 103, 189, 0.6)",
           " rgba(140, 86, 75, 0.6)",
           " rgba(44, 160, 44, 0.6)",
           " rgba(127, 127, 127, 0.6)",
           " rgba(188, 189, 34, 0.6)",
           " rgba(23, 190, 207, 0.6)",
           " rgba(31, 119, 180, 0.6)",
           " rgba(255, 127, 14, 0.6)",
           " rgba(227, 119, 194, 0.6)",
           " rgba(214, 39, 40, 0.6)",
           " rgba(148, 103, 189, 0.6)",
           " rgba(140, 86, 75, 0.6)",
           " rgba(227, 119, 194, 0.6)",
           " rgba(127, 127, 127, 0.6)",
           " rgba(188, 189, 34, 0.6)",
           " rgba(23, 190, 207, 0.6)",
           " rgba(31, 119, 180, 0.6)",
           " rgba(255, 127, 14, 0.6)",
           " rgba(44, 160, 44, 0.6)",
           " rgba(214, 39, 40, 0.6)",
           " rgba(148, 103, 189, 0.6)",
           " rgba(140, 86, 75, 0.6)",
           " rgba(227, 119, 194, 0.6)",
           " rgba(127, 127, 127, 0.6)",
           " rgba(188, 189, 34, 0.6)",
           " rgba(23, 190, 207, 0.6)",
           " rgba(31, 119, 180, 0.6)",
           " rgba(255, 127, 14, 0.6)",
           " rgba(44, 160, 44, 0.6)",
           " rgba(214, 39, 40, 0.6)",
           " rgba(148, 103, 189, 0.6)",
           " rgba(255,0,255, 0.6)",
           " rgba(227, 119, 194, 0.6)",
           " rgba(127, 127, 127, 0.6)",
           " rgba(188, 189, 34, 0.6)",
           " rgba(23, 190, 207, 0.6)",
           " rgba(31, 119, 180, 0.6)",
           " rgba(255, 127, 14, 0.6)",
           " rgba(44, 160, 44, 0.6)",
           " rgba(214, 39, 40, 0.6)",
           " rgba(148, 103, 189, 0.6)"
          ],
          "label": [
           "Primary production",
           "Imports",
           "Change in stock",
           "Available energy",
           "Transformation loses",
           "Direct carry-over",
           "Transformation input",
           "Exports",
           "International maritime bunkers",
           "International aviation",
           "Energy sector",
           "Distribution losses",
           "Transformation output",
           "Available after transformation",
           "Available for final consumption",
           "Statistical differences",
           "Final non-energy consumption",
           "Final energy consumption",
           "Industry sector",
           "Iron & steel",
           "Chemical & petrochemical",
           "Non-ferrous metals",
           "Non-metallic minerals",
           "Transport equipment",
           "Machinery",
           "Mining & quarrying",
           "Food, beverages & tobacco",
           "Paper, pulp & printing",
           "Wood & wood products",
           "Construction",
           "Textile & leather",
           "Not elsewhere specified (industry)",
           "Transport sector",
           "Rail",
           "Road",
           "Domestic aviation",
           "Domestic navigation",
           "Pipeline transport",
           "Not elsewhere specified (transport)",
           "Other sectors",
           "Commercial & public services",
           "Households",
           "Agriculture & forestry",
           "Fishing",
           "Not elsewhere specified (other)"
          ],
          "line": {
           "color": "black",
           "width": 0.5
          },
          "pad": 15,
          "thickness": 20
         },
         "type": "sankey",
         "valueformat": ".0f",
         "valuesuffix": " Ktoe"
        }
       ],
       "layout": {
        "paper_bgcolor": "GhostWhite",
        "plot_bgcolor": "GhostWhite",
        "template": {
         "data": {
          "bar": [
           {
            "error_x": {
             "color": "#2a3f5f"
            },
            "error_y": {
             "color": "#2a3f5f"
            },
            "marker": {
             "line": {
              "color": "#E5ECF6",
              "width": 0.5
             },
             "pattern": {
              "fillmode": "overlay",
              "size": 10,
              "solidity": 0.2
             }
            },
            "type": "bar"
           }
          ],
          "barpolar": [
           {
            "marker": {
             "line": {
              "color": "#E5ECF6",
              "width": 0.5
             },
             "pattern": {
              "fillmode": "overlay",
              "size": 10,
              "solidity": 0.2
             }
            },
            "type": "barpolar"
           }
          ],
          "carpet": [
           {
            "aaxis": {
             "endlinecolor": "#2a3f5f",
             "gridcolor": "white",
             "linecolor": "white",
             "minorgridcolor": "white",
             "startlinecolor": "#2a3f5f"
            },
            "baxis": {
             "endlinecolor": "#2a3f5f",
             "gridcolor": "white",
             "linecolor": "white",
             "minorgridcolor": "white",
             "startlinecolor": "#2a3f5f"
            },
            "type": "carpet"
           }
          ],
          "choropleth": [
           {
            "colorbar": {
             "outlinewidth": 0,
             "ticks": ""
            },
            "type": "choropleth"
           }
          ],
          "contour": [
           {
            "colorbar": {
             "outlinewidth": 0,
             "ticks": ""
            },
            "colorscale": [
             [
              0,
              "#0d0887"
             ],
             [
              0.1111111111111111,
              "#46039f"
             ],
             [
              0.2222222222222222,
              "#7201a8"
             ],
             [
              0.3333333333333333,
              "#9c179e"
             ],
             [
              0.4444444444444444,
              "#bd3786"
             ],
             [
              0.5555555555555556,
              "#d8576b"
             ],
             [
              0.6666666666666666,
              "#ed7953"
             ],
             [
              0.7777777777777778,
              "#fb9f3a"
             ],
             [
              0.8888888888888888,
              "#fdca26"
             ],
             [
              1,
              "#f0f921"
             ]
            ],
            "type": "contour"
           }
          ],
          "contourcarpet": [
           {
            "colorbar": {
             "outlinewidth": 0,
             "ticks": ""
            },
            "type": "contourcarpet"
           }
          ],
          "heatmap": [
           {
            "colorbar": {
             "outlinewidth": 0,
             "ticks": ""
            },
            "colorscale": [
             [
              0,
              "#0d0887"
             ],
             [
              0.1111111111111111,
              "#46039f"
             ],
             [
              0.2222222222222222,
              "#7201a8"
             ],
             [
              0.3333333333333333,
              "#9c179e"
             ],
             [
              0.4444444444444444,
              "#bd3786"
             ],
             [
              0.5555555555555556,
              "#d8576b"
             ],
             [
              0.6666666666666666,
              "#ed7953"
             ],
             [
              0.7777777777777778,
              "#fb9f3a"
             ],
             [
              0.8888888888888888,
              "#fdca26"
             ],
             [
              1,
              "#f0f921"
             ]
            ],
            "type": "heatmap"
           }
          ],
          "heatmapgl": [
           {
            "colorbar": {
             "outlinewidth": 0,
             "ticks": ""
            },
            "colorscale": [
             [
              0,
              "#0d0887"
             ],
             [
              0.1111111111111111,
              "#46039f"
             ],
             [
              0.2222222222222222,
              "#7201a8"
             ],
             [
              0.3333333333333333,
              "#9c179e"
             ],
             [
              0.4444444444444444,
              "#bd3786"
             ],
             [
              0.5555555555555556,
              "#d8576b"
             ],
             [
              0.6666666666666666,
              "#ed7953"
             ],
             [
              0.7777777777777778,
              "#fb9f3a"
             ],
             [
              0.8888888888888888,
              "#fdca26"
             ],
             [
              1,
              "#f0f921"
             ]
            ],
            "type": "heatmapgl"
           }
          ],
          "histogram": [
           {
            "marker": {
             "pattern": {
              "fillmode": "overlay",
              "size": 10,
              "solidity": 0.2
             }
            },
            "type": "histogram"
           }
          ],
          "histogram2d": [
           {
            "colorbar": {
             "outlinewidth": 0,
             "ticks": ""
            },
            "colorscale": [
             [
              0,
              "#0d0887"
             ],
             [
              0.1111111111111111,
              "#46039f"
             ],
             [
              0.2222222222222222,
              "#7201a8"
             ],
             [
              0.3333333333333333,
              "#9c179e"
             ],
             [
              0.4444444444444444,
              "#bd3786"
             ],
             [
              0.5555555555555556,
              "#d8576b"
             ],
             [
              0.6666666666666666,
              "#ed7953"
             ],
             [
              0.7777777777777778,
              "#fb9f3a"
             ],
             [
              0.8888888888888888,
              "#fdca26"
             ],
             [
              1,
              "#f0f921"
             ]
            ],
            "type": "histogram2d"
           }
          ],
          "histogram2dcontour": [
           {
            "colorbar": {
             "outlinewidth": 0,
             "ticks": ""
            },
            "colorscale": [
             [
              0,
              "#0d0887"
             ],
             [
              0.1111111111111111,
              "#46039f"
             ],
             [
              0.2222222222222222,
              "#7201a8"
             ],
             [
              0.3333333333333333,
              "#9c179e"
             ],
             [
              0.4444444444444444,
              "#bd3786"
             ],
             [
              0.5555555555555556,
              "#d8576b"
             ],
             [
              0.6666666666666666,
              "#ed7953"
             ],
             [
              0.7777777777777778,
              "#fb9f3a"
             ],
             [
              0.8888888888888888,
              "#fdca26"
             ],
             [
              1,
              "#f0f921"
             ]
            ],
            "type": "histogram2dcontour"
           }
          ],
          "mesh3d": [
           {
            "colorbar": {
             "outlinewidth": 0,
             "ticks": ""
            },
            "type": "mesh3d"
           }
          ],
          "parcoords": [
           {
            "line": {
             "colorbar": {
              "outlinewidth": 0,
              "ticks": ""
             }
            },
            "type": "parcoords"
           }
          ],
          "pie": [
           {
            "automargin": true,
            "type": "pie"
           }
          ],
          "scatter": [
           {
            "marker": {
             "colorbar": {
              "outlinewidth": 0,
              "ticks": ""
             }
            },
            "type": "scatter"
           }
          ],
          "scatter3d": [
           {
            "line": {
             "colorbar": {
              "outlinewidth": 0,
              "ticks": ""
             }
            },
            "marker": {
             "colorbar": {
              "outlinewidth": 0,
              "ticks": ""
             }
            },
            "type": "scatter3d"
           }
          ],
          "scattercarpet": [
           {
            "marker": {
             "colorbar": {
              "outlinewidth": 0,
              "ticks": ""
             }
            },
            "type": "scattercarpet"
           }
          ],
          "scattergeo": [
           {
            "marker": {
             "colorbar": {
              "outlinewidth": 0,
              "ticks": ""
             }
            },
            "type": "scattergeo"
           }
          ],
          "scattergl": [
           {
            "marker": {
             "colorbar": {
              "outlinewidth": 0,
              "ticks": ""
             }
            },
            "type": "scattergl"
           }
          ],
          "scattermapbox": [
           {
            "marker": {
             "colorbar": {
              "outlinewidth": 0,
              "ticks": ""
             }
            },
            "type": "scattermapbox"
           }
          ],
          "scatterpolar": [
           {
            "marker": {
             "colorbar": {
              "outlinewidth": 0,
              "ticks": ""
             }
            },
            "type": "scatterpolar"
           }
          ],
          "scatterpolargl": [
           {
            "marker": {
             "colorbar": {
              "outlinewidth": 0,
              "ticks": ""
             }
            },
            "type": "scatterpolargl"
           }
          ],
          "scatterternary": [
           {
            "marker": {
             "colorbar": {
              "outlinewidth": 0,
              "ticks": ""
             }
            },
            "type": "scatterternary"
           }
          ],
          "surface": [
           {
            "colorbar": {
             "outlinewidth": 0,
             "ticks": ""
            },
            "colorscale": [
             [
              0,
              "#0d0887"
             ],
             [
              0.1111111111111111,
              "#46039f"
             ],
             [
              0.2222222222222222,
              "#7201a8"
             ],
             [
              0.3333333333333333,
              "#9c179e"
             ],
             [
              0.4444444444444444,
              "#bd3786"
             ],
             [
              0.5555555555555556,
              "#d8576b"
             ],
             [
              0.6666666666666666,
              "#ed7953"
             ],
             [
              0.7777777777777778,
              "#fb9f3a"
             ],
             [
              0.8888888888888888,
              "#fdca26"
             ],
             [
              1,
              "#f0f921"
             ]
            ],
            "type": "surface"
           }
          ],
          "table": [
           {
            "cells": {
             "fill": {
              "color": "#EBF0F8"
             },
             "line": {
              "color": "white"
             }
            },
            "header": {
             "fill": {
              "color": "#C8D4E3"
             },
             "line": {
              "color": "white"
             }
            },
            "type": "table"
           }
          ]
         },
         "layout": {
          "annotationdefaults": {
           "arrowcolor": "#2a3f5f",
           "arrowhead": 0,
           "arrowwidth": 1
          },
          "autotypenumbers": "strict",
          "coloraxis": {
           "colorbar": {
            "outlinewidth": 0,
            "ticks": ""
           }
          },
          "colorscale": {
           "diverging": [
            [
             0,
             "#8e0152"
            ],
            [
             0.1,
             "#c51b7d"
            ],
            [
             0.2,
             "#de77ae"
            ],
            [
             0.3,
             "#f1b6da"
            ],
            [
             0.4,
             "#fde0ef"
            ],
            [
             0.5,
             "#f7f7f7"
            ],
            [
             0.6,
             "#e6f5d0"
            ],
            [
             0.7,
             "#b8e186"
            ],
            [
             0.8,
             "#7fbc41"
            ],
            [
             0.9,
             "#4d9221"
            ],
            [
             1,
             "#276419"
            ]
           ],
           "sequential": [
            [
             0,
             "#0d0887"
            ],
            [
             0.1111111111111111,
             "#46039f"
            ],
            [
             0.2222222222222222,
             "#7201a8"
            ],
            [
             0.3333333333333333,
             "#9c179e"
            ],
            [
             0.4444444444444444,
             "#bd3786"
            ],
            [
             0.5555555555555556,
             "#d8576b"
            ],
            [
             0.6666666666666666,
             "#ed7953"
            ],
            [
             0.7777777777777778,
             "#fb9f3a"
            ],
            [
             0.8888888888888888,
             "#fdca26"
            ],
            [
             1,
             "#f0f921"
            ]
           ],
           "sequentialminus": [
            [
             0,
             "#0d0887"
            ],
            [
             0.1111111111111111,
             "#46039f"
            ],
            [
             0.2222222222222222,
             "#7201a8"
            ],
            [
             0.3333333333333333,
             "#9c179e"
            ],
            [
             0.4444444444444444,
             "#bd3786"
            ],
            [
             0.5555555555555556,
             "#d8576b"
            ],
            [
             0.6666666666666666,
             "#ed7953"
            ],
            [
             0.7777777777777778,
             "#fb9f3a"
            ],
            [
             0.8888888888888888,
             "#fdca26"
            ],
            [
             1,
             "#f0f921"
            ]
           ]
          },
          "colorway": [
           "#636efa",
           "#EF553B",
           "#00cc96",
           "#ab63fa",
           "#FFA15A",
           "#19d3f3",
           "#FF6692",
           "#B6E880",
           "#FF97FF",
           "#FECB52"
          ],
          "font": {
           "color": "#2a3f5f"
          },
          "geo": {
           "bgcolor": "white",
           "lakecolor": "white",
           "landcolor": "#E5ECF6",
           "showlakes": true,
           "showland": true,
           "subunitcolor": "white"
          },
          "hoverlabel": {
           "align": "left"
          },
          "hovermode": "closest",
          "mapbox": {
           "style": "light"
          },
          "paper_bgcolor": "white",
          "plot_bgcolor": "#E5ECF6",
          "polar": {
           "angularaxis": {
            "gridcolor": "white",
            "linecolor": "white",
            "ticks": ""
           },
           "bgcolor": "#E5ECF6",
           "radialaxis": {
            "gridcolor": "white",
            "linecolor": "white",
            "ticks": ""
           }
          },
          "scene": {
           "xaxis": {
            "backgroundcolor": "#E5ECF6",
            "gridcolor": "white",
            "gridwidth": 2,
            "linecolor": "white",
            "showbackground": true,
            "ticks": "",
            "zerolinecolor": "white"
           },
           "yaxis": {
            "backgroundcolor": "#E5ECF6",
            "gridcolor": "white",
            "gridwidth": 2,
            "linecolor": "white",
            "showbackground": true,
            "ticks": "",
            "zerolinecolor": "white"
           },
           "zaxis": {
            "backgroundcolor": "#E5ECF6",
            "gridcolor": "white",
            "gridwidth": 2,
            "linecolor": "white",
            "showbackground": true,
            "ticks": "",
            "zerolinecolor": "white"
           }
          },
          "shapedefaults": {
           "line": {
            "color": "#2a3f5f"
           }
          },
          "ternary": {
           "aaxis": {
            "gridcolor": "white",
            "linecolor": "white",
            "ticks": ""
           },
           "baxis": {
            "gridcolor": "white",
            "linecolor": "white",
            "ticks": ""
           },
           "bgcolor": "#E5ECF6",
           "caxis": {
            "gridcolor": "white",
            "linecolor": "white",
            "ticks": ""
           }
          },
          "title": {
           "x": 0.05
          },
          "xaxis": {
           "automargin": true,
           "gridcolor": "white",
           "linecolor": "white",
           "ticks": "",
           "title": {
            "standoff": 15
           },
           "zerolinecolor": "white",
           "zerolinewidth": 2
          },
          "yaxis": {
           "automargin": true,
           "gridcolor": "white",
           "linecolor": "white",
           "ticks": "",
           "title": {
            "standoff": 15
           },
           "zerolinecolor": "white",
           "zerolinewidth": 2
          }
         }
        },
        "title": {
         "font": {
          "size": 20
         },
         "text": "<b>Spain energy flow in 2020<br>Source: <a href='https://ec.europa.eu/eurostat/web/energy/data/energy-balances'>Eurostat</a></b>"
        }
       }
      },
      "text/html": [
       "<div>                            <div id=\"56954f42-72da-4994-ab3f-664bcd946b11\" class=\"plotly-graph-div\" style=\"height:525px; width:100%;\"></div>            <script type=\"text/javascript\">                require([\"plotly\"], function(Plotly) {                    window.PLOTLYENV=window.PLOTLYENV || {};                                    if (document.getElementById(\"56954f42-72da-4994-ab3f-664bcd946b11\")) {                    Plotly.newPlot(                        \"56954f42-72da-4994-ab3f-664bcd946b11\",                        [{\"link\":{\"color\":[\" rgba(214, 39, 40, 0.2)\",\" rgba(255, 127, 14, 0.2)\",\" rgba(44, 160, 44, 0.2)\",\"rgba(31, 119, 180, 0.2)\",\"rgba(31, 119, 180, 0.2)\",\" rgba(140, 86, 75, 0.2)\",\" rgba(44, 160, 44, 0.2)\",\" rgba(44, 160, 44, 0.2)\",\" rgba(227, 119, 194, 0.2)\",\" rgba(214, 39, 40, 0.2)\",\" rgba(214, 39, 40, 0.2)\",\" rgba(214, 39, 40, 0.2)\",\" rgba(214, 39, 40, 0.2)\",\" rgba(214, 39, 40, 0.2)\",\" rgba(148, 103, 189, 0.2)\",\" rgba(148, 103, 189, 0.2)\",\" rgba(148, 103, 189, 0.2)\",\" rgba(214, 39, 40, 0.2)\",\" rgba(127, 127, 127, 0.2)\",\" rgba(127, 127, 127, 0.2)\",\" rgba(127, 127, 127, 0.2)\"],\"source\":[0,1,2,3,3,5,6,6,12,13,13,13,13,13,14,14,14,13,17,17,17],\"target\":[3,3,3,5,6,13,4,12,13,8,9,10,11,14,15,16,17,7,18,32,39],\"value\":[35423,109174,2522,32575,114545,32575,21405,93140,93140,6378,1576,8683,2381,77750,-377,5804,72323,28947,18840,26162,27321]},\"node\":{\"color\":[\" rgba(214, 39, 40, 0.6)\",\" rgba(255, 127, 14, 0.6)\",\" rgba(44, 160, 44, 0.6)\",\"rgba(31, 119, 180, 0.6)\",\" rgba(148, 103, 189, 0.6)\",\" rgba(140, 86, 75, 0.6)\",\" rgba(44, 160, 44, 0.6)\",\" rgba(127, 127, 127, 0.6)\",\" rgba(188, 189, 34, 0.6)\",\" rgba(23, 190, 207, 0.6)\",\" rgba(31, 119, 180, 0.6)\",\" rgba(255, 127, 14, 0.6)\",\" rgba(227, 119, 194, 0.6)\",\" rgba(214, 39, 40, 0.6)\",\" rgba(148, 103, 189, 0.6)\",\" rgba(140, 86, 75, 0.6)\",\" rgba(227, 119, 194, 0.6)\",\" rgba(127, 127, 127, 0.6)\",\" rgba(188, 189, 34, 0.6)\",\" rgba(23, 190, 207, 0.6)\",\" rgba(31, 119, 180, 0.6)\",\" rgba(255, 127, 14, 0.6)\",\" rgba(44, 160, 44, 0.6)\",\" rgba(214, 39, 40, 0.6)\",\" rgba(148, 103, 189, 0.6)\",\" rgba(140, 86, 75, 0.6)\",\" rgba(227, 119, 194, 0.6)\",\" rgba(127, 127, 127, 0.6)\",\" rgba(188, 189, 34, 0.6)\",\" rgba(23, 190, 207, 0.6)\",\" rgba(31, 119, 180, 0.6)\",\" rgba(255, 127, 14, 0.6)\",\" rgba(44, 160, 44, 0.6)\",\" rgba(214, 39, 40, 0.6)\",\" rgba(148, 103, 189, 0.6)\",\" rgba(255,0,255, 0.6)\",\" rgba(227, 119, 194, 0.6)\",\" rgba(127, 127, 127, 0.6)\",\" rgba(188, 189, 34, 0.6)\",\" rgba(23, 190, 207, 0.6)\",\" rgba(31, 119, 180, 0.6)\",\" rgba(255, 127, 14, 0.6)\",\" rgba(44, 160, 44, 0.6)\",\" rgba(214, 39, 40, 0.6)\",\" rgba(148, 103, 189, 0.6)\"],\"label\":[\"Primary production\",\"Imports\",\"Change in stock\",\"Available energy\",\"Transformation loses\",\"Direct carry-over\",\"Transformation input\",\"Exports\",\"International maritime bunkers\",\"International aviation\",\"Energy sector\",\"Distribution losses\",\"Transformation output\",\"Available after transformation\",\"Available for final consumption\",\"Statistical differences\",\"Final non-energy consumption\",\"Final energy consumption\",\"Industry sector\",\"Iron & steel\",\"Chemical & petrochemical\",\"Non-ferrous metals\",\"Non-metallic minerals\",\"Transport equipment\",\"Machinery\",\"Mining & quarrying\",\"Food, beverages & tobacco\",\"Paper, pulp & printing\",\"Wood & wood products\",\"Construction\",\"Textile & leather\",\"Not elsewhere specified (industry)\",\"Transport sector\",\"Rail\",\"Road\",\"Domestic aviation\",\"Domestic navigation\",\"Pipeline transport\",\"Not elsewhere specified (transport)\",\"Other sectors\",\"Commercial & public services\",\"Households\",\"Agriculture & forestry\",\"Fishing\",\"Not elsewhere specified (other)\"],\"line\":{\"color\":\"black\",\"width\":0.5},\"pad\":15,\"thickness\":20},\"valueformat\":\".0f\",\"valuesuffix\":\" Ktoe\",\"type\":\"sankey\"}],                        {\"template\":{\"data\":{\"bar\":[{\"error_x\":{\"color\":\"#2a3f5f\"},\"error_y\":{\"color\":\"#2a3f5f\"},\"marker\":{\"line\":{\"color\":\"#E5ECF6\",\"width\":0.5},\"pattern\":{\"fillmode\":\"overlay\",\"size\":10,\"solidity\":0.2}},\"type\":\"bar\"}],\"barpolar\":[{\"marker\":{\"line\":{\"color\":\"#E5ECF6\",\"width\":0.5},\"pattern\":{\"fillmode\":\"overlay\",\"size\":10,\"solidity\":0.2}},\"type\":\"barpolar\"}],\"carpet\":[{\"aaxis\":{\"endlinecolor\":\"#2a3f5f\",\"gridcolor\":\"white\",\"linecolor\":\"white\",\"minorgridcolor\":\"white\",\"startlinecolor\":\"#2a3f5f\"},\"baxis\":{\"endlinecolor\":\"#2a3f5f\",\"gridcolor\":\"white\",\"linecolor\":\"white\",\"minorgridcolor\":\"white\",\"startlinecolor\":\"#2a3f5f\"},\"type\":\"carpet\"}],\"choropleth\":[{\"colorbar\":{\"outlinewidth\":0,\"ticks\":\"\"},\"type\":\"choropleth\"}],\"contour\":[{\"colorbar\":{\"outlinewidth\":0,\"ticks\":\"\"},\"colorscale\":[[0.0,\"#0d0887\"],[0.1111111111111111,\"#46039f\"],[0.2222222222222222,\"#7201a8\"],[0.3333333333333333,\"#9c179e\"],[0.4444444444444444,\"#bd3786\"],[0.5555555555555556,\"#d8576b\"],[0.6666666666666666,\"#ed7953\"],[0.7777777777777778,\"#fb9f3a\"],[0.8888888888888888,\"#fdca26\"],[1.0,\"#f0f921\"]],\"type\":\"contour\"}],\"contourcarpet\":[{\"colorbar\":{\"outlinewidth\":0,\"ticks\":\"\"},\"type\":\"contourcarpet\"}],\"heatmap\":[{\"colorbar\":{\"outlinewidth\":0,\"ticks\":\"\"},\"colorscale\":[[0.0,\"#0d0887\"],[0.1111111111111111,\"#46039f\"],[0.2222222222222222,\"#7201a8\"],[0.3333333333333333,\"#9c179e\"],[0.4444444444444444,\"#bd3786\"],[0.5555555555555556,\"#d8576b\"],[0.6666666666666666,\"#ed7953\"],[0.7777777777777778,\"#fb9f3a\"],[0.8888888888888888,\"#fdca26\"],[1.0,\"#f0f921\"]],\"type\":\"heatmap\"}],\"heatmapgl\":[{\"colorbar\":{\"outlinewidth\":0,\"ticks\":\"\"},\"colorscale\":[[0.0,\"#0d0887\"],[0.1111111111111111,\"#46039f\"],[0.2222222222222222,\"#7201a8\"],[0.3333333333333333,\"#9c179e\"],[0.4444444444444444,\"#bd3786\"],[0.5555555555555556,\"#d8576b\"],[0.6666666666666666,\"#ed7953\"],[0.7777777777777778,\"#fb9f3a\"],[0.8888888888888888,\"#fdca26\"],[1.0,\"#f0f921\"]],\"type\":\"heatmapgl\"}],\"histogram\":[{\"marker\":{\"pattern\":{\"fillmode\":\"overlay\",\"size\":10,\"solidity\":0.2}},\"type\":\"histogram\"}],\"histogram2d\":[{\"colorbar\":{\"outlinewidth\":0,\"ticks\":\"\"},\"colorscale\":[[0.0,\"#0d0887\"],[0.1111111111111111,\"#46039f\"],[0.2222222222222222,\"#7201a8\"],[0.3333333333333333,\"#9c179e\"],[0.4444444444444444,\"#bd3786\"],[0.5555555555555556,\"#d8576b\"],[0.6666666666666666,\"#ed7953\"],[0.7777777777777778,\"#fb9f3a\"],[0.8888888888888888,\"#fdca26\"],[1.0,\"#f0f921\"]],\"type\":\"histogram2d\"}],\"histogram2dcontour\":[{\"colorbar\":{\"outlinewidth\":0,\"ticks\":\"\"},\"colorscale\":[[0.0,\"#0d0887\"],[0.1111111111111111,\"#46039f\"],[0.2222222222222222,\"#7201a8\"],[0.3333333333333333,\"#9c179e\"],[0.4444444444444444,\"#bd3786\"],[0.5555555555555556,\"#d8576b\"],[0.6666666666666666,\"#ed7953\"],[0.7777777777777778,\"#fb9f3a\"],[0.8888888888888888,\"#fdca26\"],[1.0,\"#f0f921\"]],\"type\":\"histogram2dcontour\"}],\"mesh3d\":[{\"colorbar\":{\"outlinewidth\":0,\"ticks\":\"\"},\"type\":\"mesh3d\"}],\"parcoords\":[{\"line\":{\"colorbar\":{\"outlinewidth\":0,\"ticks\":\"\"}},\"type\":\"parcoords\"}],\"pie\":[{\"automargin\":true,\"type\":\"pie\"}],\"scatter\":[{\"marker\":{\"colorbar\":{\"outlinewidth\":0,\"ticks\":\"\"}},\"type\":\"scatter\"}],\"scatter3d\":[{\"line\":{\"colorbar\":{\"outlinewidth\":0,\"ticks\":\"\"}},\"marker\":{\"colorbar\":{\"outlinewidth\":0,\"ticks\":\"\"}},\"type\":\"scatter3d\"}],\"scattercarpet\":[{\"marker\":{\"colorbar\":{\"outlinewidth\":0,\"ticks\":\"\"}},\"type\":\"scattercarpet\"}],\"scattergeo\":[{\"marker\":{\"colorbar\":{\"outlinewidth\":0,\"ticks\":\"\"}},\"type\":\"scattergeo\"}],\"scattergl\":[{\"marker\":{\"colorbar\":{\"outlinewidth\":0,\"ticks\":\"\"}},\"type\":\"scattergl\"}],\"scattermapbox\":[{\"marker\":{\"colorbar\":{\"outlinewidth\":0,\"ticks\":\"\"}},\"type\":\"scattermapbox\"}],\"scatterpolar\":[{\"marker\":{\"colorbar\":{\"outlinewidth\":0,\"ticks\":\"\"}},\"type\":\"scatterpolar\"}],\"scatterpolargl\":[{\"marker\":{\"colorbar\":{\"outlinewidth\":0,\"ticks\":\"\"}},\"type\":\"scatterpolargl\"}],\"scatterternary\":[{\"marker\":{\"colorbar\":{\"outlinewidth\":0,\"ticks\":\"\"}},\"type\":\"scatterternary\"}],\"surface\":[{\"colorbar\":{\"outlinewidth\":0,\"ticks\":\"\"},\"colorscale\":[[0.0,\"#0d0887\"],[0.1111111111111111,\"#46039f\"],[0.2222222222222222,\"#7201a8\"],[0.3333333333333333,\"#9c179e\"],[0.4444444444444444,\"#bd3786\"],[0.5555555555555556,\"#d8576b\"],[0.6666666666666666,\"#ed7953\"],[0.7777777777777778,\"#fb9f3a\"],[0.8888888888888888,\"#fdca26\"],[1.0,\"#f0f921\"]],\"type\":\"surface\"}],\"table\":[{\"cells\":{\"fill\":{\"color\":\"#EBF0F8\"},\"line\":{\"color\":\"white\"}},\"header\":{\"fill\":{\"color\":\"#C8D4E3\"},\"line\":{\"color\":\"white\"}},\"type\":\"table\"}]},\"layout\":{\"annotationdefaults\":{\"arrowcolor\":\"#2a3f5f\",\"arrowhead\":0,\"arrowwidth\":1},\"autotypenumbers\":\"strict\",\"coloraxis\":{\"colorbar\":{\"outlinewidth\":0,\"ticks\":\"\"}},\"colorscale\":{\"diverging\":[[0,\"#8e0152\"],[0.1,\"#c51b7d\"],[0.2,\"#de77ae\"],[0.3,\"#f1b6da\"],[0.4,\"#fde0ef\"],[0.5,\"#f7f7f7\"],[0.6,\"#e6f5d0\"],[0.7,\"#b8e186\"],[0.8,\"#7fbc41\"],[0.9,\"#4d9221\"],[1,\"#276419\"]],\"sequential\":[[0.0,\"#0d0887\"],[0.1111111111111111,\"#46039f\"],[0.2222222222222222,\"#7201a8\"],[0.3333333333333333,\"#9c179e\"],[0.4444444444444444,\"#bd3786\"],[0.5555555555555556,\"#d8576b\"],[0.6666666666666666,\"#ed7953\"],[0.7777777777777778,\"#fb9f3a\"],[0.8888888888888888,\"#fdca26\"],[1.0,\"#f0f921\"]],\"sequentialminus\":[[0.0,\"#0d0887\"],[0.1111111111111111,\"#46039f\"],[0.2222222222222222,\"#7201a8\"],[0.3333333333333333,\"#9c179e\"],[0.4444444444444444,\"#bd3786\"],[0.5555555555555556,\"#d8576b\"],[0.6666666666666666,\"#ed7953\"],[0.7777777777777778,\"#fb9f3a\"],[0.8888888888888888,\"#fdca26\"],[1.0,\"#f0f921\"]]},\"colorway\":[\"#636efa\",\"#EF553B\",\"#00cc96\",\"#ab63fa\",\"#FFA15A\",\"#19d3f3\",\"#FF6692\",\"#B6E880\",\"#FF97FF\",\"#FECB52\"],\"font\":{\"color\":\"#2a3f5f\"},\"geo\":{\"bgcolor\":\"white\",\"lakecolor\":\"white\",\"landcolor\":\"#E5ECF6\",\"showlakes\":true,\"showland\":true,\"subunitcolor\":\"white\"},\"hoverlabel\":{\"align\":\"left\"},\"hovermode\":\"closest\",\"mapbox\":{\"style\":\"light\"},\"paper_bgcolor\":\"white\",\"plot_bgcolor\":\"#E5ECF6\",\"polar\":{\"angularaxis\":{\"gridcolor\":\"white\",\"linecolor\":\"white\",\"ticks\":\"\"},\"bgcolor\":\"#E5ECF6\",\"radialaxis\":{\"gridcolor\":\"white\",\"linecolor\":\"white\",\"ticks\":\"\"}},\"scene\":{\"xaxis\":{\"backgroundcolor\":\"#E5ECF6\",\"gridcolor\":\"white\",\"gridwidth\":2,\"linecolor\":\"white\",\"showbackground\":true,\"ticks\":\"\",\"zerolinecolor\":\"white\"},\"yaxis\":{\"backgroundcolor\":\"#E5ECF6\",\"gridcolor\":\"white\",\"gridwidth\":2,\"linecolor\":\"white\",\"showbackground\":true,\"ticks\":\"\",\"zerolinecolor\":\"white\"},\"zaxis\":{\"backgroundcolor\":\"#E5ECF6\",\"gridcolor\":\"white\",\"gridwidth\":2,\"linecolor\":\"white\",\"showbackground\":true,\"ticks\":\"\",\"zerolinecolor\":\"white\"}},\"shapedefaults\":{\"line\":{\"color\":\"#2a3f5f\"}},\"ternary\":{\"aaxis\":{\"gridcolor\":\"white\",\"linecolor\":\"white\",\"ticks\":\"\"},\"baxis\":{\"gridcolor\":\"white\",\"linecolor\":\"white\",\"ticks\":\"\"},\"bgcolor\":\"#E5ECF6\",\"caxis\":{\"gridcolor\":\"white\",\"linecolor\":\"white\",\"ticks\":\"\"}},\"title\":{\"x\":0.05},\"xaxis\":{\"automargin\":true,\"gridcolor\":\"white\",\"linecolor\":\"white\",\"ticks\":\"\",\"title\":{\"standoff\":15},\"zerolinecolor\":\"white\",\"zerolinewidth\":2},\"yaxis\":{\"automargin\":true,\"gridcolor\":\"white\",\"linecolor\":\"white\",\"ticks\":\"\",\"title\":{\"standoff\":15},\"zerolinecolor\":\"white\",\"zerolinewidth\":2}}},\"title\":{\"font\":{\"size\":20},\"text\":\"<b>Spain energy flow in 2020<br>Source: <a href='https://ec.europa.eu/eurostat/web/energy/data/energy-balances'>Eurostat</a></b>\"},\"plot_bgcolor\":\"GhostWhite\",\"paper_bgcolor\":\"GhostWhite\"},                        {\"responsive\": true}                    ).then(function(){\n",
       "                            \n",
       "var gd = document.getElementById('56954f42-72da-4994-ab3f-664bcd946b11');\n",
       "var x = new MutationObserver(function (mutations, observer) {{\n",
       "        var display = window.getComputedStyle(gd).display;\n",
       "        if (!display || display === 'none') {{\n",
       "            console.log([gd, 'removed!']);\n",
       "            Plotly.purge(gd);\n",
       "            observer.disconnect();\n",
       "        }}\n",
       "}});\n",
       "\n",
       "// Listen for the removal of the full notebook cells\n",
       "var notebookContainer = gd.closest('#notebook-container');\n",
       "if (notebookContainer) {{\n",
       "    x.observe(notebookContainer, {childList: true});\n",
       "}}\n",
       "\n",
       "// Listen for the clearing of the current output cell\n",
       "var outputEl = gd.closest('.output');\n",
       "if (outputEl) {{\n",
       "    x.observe(outputEl, {childList: true});\n",
       "}}\n",
       "\n",
       "                        })                };                });            </script>        </div>"
      ]
     },
     "metadata": {},
     "output_type": "display_data"
    }
   ],
   "source": [
    "import pandas as pd\n",
    "import plotly.graph_objects as go\n",
    "\n",
    "\n",
    "df = pd.read_csv('Relaciones.csv', sep=';')\n",
    "df_labels = pd.read_csv('Labels.csv', sep=';')\n",
    "\n",
    "labels = []\n",
    "source = []\n",
    "destination = []\n",
    "quantity = []\n",
    "color_labels = []\n",
    "for i, row in df.iterrows():    \n",
    "    source.append(row['Index'])\n",
    "    destination.append(row['Relation'])\n",
    "    quantity.append(row['Value'])    \n",
    "for i, row in df_labels.iterrows():\n",
    "    labels.append(row['Name'])\n",
    "    color_labels.append(row['Color'])\n",
    "color_links = [color_labels[i].replace(\"0.6\", \"0.2\") for i in source]\n",
    "fig = go.Figure(data=[go.Sankey(\n",
    "    valueformat = \".0f\",\n",
    "    valuesuffix = \" Ktoe\",\n",
    "    node = dict(\n",
    "        pad = 15,\n",
    "        thickness = 20,\n",
    "        line = dict(color = \"black\", width = 0.5),\n",
    "        label = labels,\n",
    "        color = color_labels\n",
    "    ),\n",
    "    link = dict(\n",
    "        source = source,\n",
    "        target = destination,\n",
    "        color = color_links,\n",
    "        value = quantity\n",
    "  ))])\n",
    "\n",
    "fig.update_layout(\n",
    "    title = {'text': \"<b>Spain energy flow in 2020<br>Source: <a href='https://ec.europa.eu/eurostat/web/energy/data/energy-balances'>Eurostat</a></b>\",\n",
    "             'font': {'size': 20}},\n",
    "    plot_bgcolor='GhostWhite',\n",
    "    paper_bgcolor='GhostWhite')\n",
    "fig.show()\n",
    "fig.write_html(\"index.html\")"
   ]
  },
  {
   "cell_type": "code",
   "execution_count": null,
   "id": "39f85338",
   "metadata": {},
   "outputs": [],
   "source": []
  }
 ],
 "metadata": {
  "kernelspec": {
   "display_name": "Python 3 (ipykernel)",
   "language": "python",
   "name": "python3"
  },
  "language_info": {
   "codemirror_mode": {
    "name": "ipython",
    "version": 3
   },
   "file_extension": ".py",
   "mimetype": "text/x-python",
   "name": "python",
   "nbconvert_exporter": "python",
   "pygments_lexer": "ipython3",
   "version": "3.9.1"
  }
 },
 "nbformat": 4,
 "nbformat_minor": 5
}
